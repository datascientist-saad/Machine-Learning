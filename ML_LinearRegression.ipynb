{
 "metadata": {
  "language_info": {
   "codemirror_mode": {
    "name": "ipython",
    "version": 3
   },
   "file_extension": ".py",
   "mimetype": "text/x-python",
   "name": "python",
   "nbconvert_exporter": "python",
   "pygments_lexer": "ipython3",
   "version": "3.8.5-final"
  },
  "orig_nbformat": 2,
  "kernelspec": {
   "name": "python3",
   "display_name": "Python 3.8.5 64-bit (conda)",
   "metadata": {
    "interpreter": {
     "hash": "6d46af94c2bbce495f1e668725902fa517c90b1782bcfe2fce0dd9868df553d3"
    }
   }
  }
 },
 "nbformat": 4,
 "nbformat_minor": 2,
 "cells": [
  {
   "cell_type": "code",
   "execution_count": 7,
   "metadata": {},
   "outputs": [],
   "source": [
    "import matplotlib.pyplot as plt\n",
    "import numpy as np \n",
    "from sklearn import datasets, linear_model\n",
    "from sklearn.metrics import mean_squared_error"
   ]
  },
  {
   "cell_type": "code",
   "execution_count": 27,
   "metadata": {},
   "outputs": [],
   "source": [
    "diabetes = datasets.load_diabetes()\n",
    "#['data', 'target', 'frame', 'DESCR', 'feature_names', 'data_filename', 'target_filename']\n",
    "#print(diabetes)"
   ]
  },
  {
   "cell_type": "code",
   "execution_count": 34,
   "metadata": {},
   "outputs": [],
   "source": [
    "# diabetes_X = diabetes.data\n",
    "diabetes_X = np.array([[1], [2], [3]])\n",
    "# print(diabetes_Y_test)\n",
    "diabetes_X_train = diabetes_X\n",
    "diabetes_X_test = diabetes_X\n",
    "\n",
    "diabetes_Y_train = np.array([3, 2, 4])\n",
    "diabetes_Y_test = np.array([3, 2, 4])"
   ]
  },
  {
   "cell_type": "code",
   "execution_count": 35,
   "metadata": {},
   "outputs": [
    {
     "output_type": "stream",
     "name": "stdout",
     "text": [
      "Mean Squared Error =  0.5000000000000001\nWeights:  [0.5]\nIntercept =  2.0\n"
     ]
    }
   ],
   "source": [
    "model = linear_model.LinearRegression()\n",
    "model.fit(diabetes_X_train, diabetes_Y_train)\n",
    "diabetes_Y_predicted = model.predict(diabetes_X_test)\n",
    "\n",
    "print(\"Mean Squared Error = \", mean_squared_error(diabetes_Y_test, diabetes_Y_predicted))\n",
    "print(\"Weights: \", model.coef_)\n",
    "print(\"Intercept = \", model.intercept_)\n",
    "\n",
    "\n",
    "# plt.scatter(diabetes_X_test, diabetes_Y_test)\n",
    "# plt.plot(diabetes_X_test, diabetes_Y_predicted)\n",
    "# plt.show()"
   ]
  }
 ]
}