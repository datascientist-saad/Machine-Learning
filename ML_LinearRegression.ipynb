{
 "metadata": {
  "language_info": {
   "codemirror_mode": {
    "name": "ipython",
    "version": 3
   },
   "file_extension": ".py",
   "mimetype": "text/x-python",
   "name": "python",
   "nbconvert_exporter": "python",
   "pygments_lexer": "ipython3",
   "version": "3.8.5-final"
  },
  "orig_nbformat": 2,
  "kernelspec": {
   "name": "python3",
   "display_name": "Python 3.8.5 64-bit (conda)",
   "metadata": {
    "interpreter": {
     "hash": "6d46af94c2bbce495f1e668725902fa517c90b1782bcfe2fce0dd9868df553d3"
    }
   }
  }
 },
 "nbformat": 4,
 "nbformat_minor": 2,
 "cells": [
  {
   "cell_type": "code",
   "execution_count": 7,
   "metadata": {},
   "outputs": [],
   "source": [
    "import matplotlib.pyplot as plt\n",
    "import numpy as np \n",
    "from sklearn import datasets, linear_model\n",
    "from sklearn.metrics import mean_squared_error"
   ]
  },
  {
   "cell_type": "code",
   "execution_count": 2,
   "metadata": {},
   "outputs": [],
   "source": [
    "diabetes = datasets.load_diabetes()\n",
    "#['data', 'target', 'frame', 'DESCR', 'feature_names', 'data_filename', 'target_filename']\n",
    "#print(diabetes)"
   ]
  },
  {
   "cell_type": "code",
   "execution_count": 12,
   "metadata": {},
   "outputs": [],
   "source": [
    "diabetes_X = diabetes.data\n",
    "#print(diabetes_X)\n",
    "diabetes_X_train = diabetes_X[:-30]\n",
    "diabetes_X_test = diabetes_X[-30:]\n",
    "\n",
    "diabetes_Y_train = diabetes.target[:-30]\n",
    "diabetes_Y_test = diabetes.target[-30:]"
   ]
  },
  {
   "cell_type": "code",
   "execution_count": 17,
   "metadata": {},
   "outputs": [
    {
     "output_type": "stream",
     "name": "stdout",
     "text": [
      "Mean Squared Error =  1826.5364191345423\nWeights:  [  -1.16924976 -237.18461486  518.30606657  309.04865826 -763.14121622\n  458.90999325   80.62441437  174.32183366  721.49712065   79.19307944]\nIntercept =  153.05827988224112\n"
     ]
    }
   ],
   "source": [
    "model = linear_model.LinearRegression()\n",
    "model.fit(diabetes_X_train, diabetes_Y_train)\n",
    "diabetes_Y_predicted = model.predict(diabetes_X_test)\n",
    "\n",
    "print(\"Mean Squared Error = \", mean_squared_error(diabetes_Y_test, diabetes_Y_predicted))\n",
    "print(\"Weights: \", model.coef_)\n",
    "print(\"Intercept = \", model.intercept_)\n",
    "\n",
    "\n",
    "# plt.scatter(diabetes_X_test, diabetes_Y_test)\n",
    "# plt.plot(diabetes_X_test, diabetes_Y_predicted)\n",
    "# plt.show()"
   ]
  }
 ]
}